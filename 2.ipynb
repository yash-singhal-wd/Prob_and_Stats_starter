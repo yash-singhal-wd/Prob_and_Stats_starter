{
 "cells": [
  {
   "cell_type": "code",
   "execution_count": null,
   "id": "7499499c",
   "metadata": {},
   "outputs": [],
   "source": [
    "import numpy as np\n",
    "C:\\Users\\yash9\\Desktop"
   ]
  }
 ],
 "metadata": {
  "language_info": {
   "name": "python"
  }
 },
 "nbformat": 4,
 "nbformat_minor": 5
}
